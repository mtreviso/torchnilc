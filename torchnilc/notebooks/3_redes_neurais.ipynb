{
 "cells": [
  {
   "cell_type": "markdown",
   "metadata": {},
   "source": [
    "# Redes Neurais\n",
    "\n",
    "## Criando uma rede neural\n",
    "\n",
    "A typical training procedure for a neural network is as follows:\n",
    "\n",
    "1. **Define the neural network that has some learnable parameters (or weights)**\n",
    "2. **Iterate over a dataset of inputs**\n",
    "3. **Process input through the network**\n",
    "4. **Compute the loss (how far is the output from being correct)**\n",
    "5. Propagate gradients back into the network’s parameters\n",
    "6. Update the weights of the network, typically using a simple update rule: weight = weight - lr * gradient\n",
    "\n",
    "Nós definimos manualmente um classificador linear, criando dois pesos (w_a e w_b) para serem aprendidos e atualizando eles com gradiente descendente manualmente. Agora vamos ver como o PyTorch nos oferece uma abstração em módulos, para nos preocupamos paenas com a definição da nossa rede neural (a nossa reta de antes)\n"
   ]
  },
  {
   "cell_type": "code",
   "execution_count": 25,
   "metadata": {},
   "outputs": [
    {
     "name": "stdout",
     "output_type": "stream",
     "text": [
      "MyMLP(\n",
      "  (emb_layer): Embedding(100, 50)\n",
      "  (hidden_layer): Linear(in_features=50, out_features=20, bias=True)\n",
      "  (out_layer): Linear(in_features=20, out_features=2, bias=True)\n",
      "  (dropout_hidden): Dropout(p=0.5)\n",
      ")\n",
      "Net(\n",
      "  (in_layer): Linear(in_features=4096, out_features=120, bias=True)\n",
      "  (out_layer): Linear(in_features=120, out_features=10, bias=True)\n",
      ")\n"
     ]
    }
   ],
   "source": [
    "import torch\n",
    "import torch.nn as nn\n",
    "\n",
    "\n",
    "class MyMLP(nn.Module):\n",
    "    \n",
    "    def __init__(self, vocab_size, emb_size, hidden_size, nb_classes):\n",
    "        super().__init__()\n",
    "        self.emb_layer = nn.Embedding(vocab_size, emb_size)\n",
    "        self.hidden_layer = nn.Linear(emb_size, hidden_size)\n",
    "        self.out_layer = nn.Linear(hidden_size, nb_classes)\n",
    "        self.dropout_hidden = nn.Dropout(0.5)\n",
    "    \n",
    "    def forward(self, x, nonlinearity='sigmoid'):\n",
    "        x = self.emb_layer(x)\n",
    "        x = torch.sigmoid(x) if nonlinearity == 'sigmoid' else torch.tanh(x)\n",
    "        x = self.hidden_layer(x)\n",
    "        x = self.dropout_hidden(x)\n",
    "        print(x)\n",
    "        print(x.shape)\n",
    "        x = torch.sigmoid(x) if nonlinearity == 'sigmoid' else torch.tanh(x)\n",
    "        x = self.out_layer(x)\n",
    "        x = torch.softmax(x, dim=-1)\n",
    "        return x\n",
    "    \n",
    "\n",
    "# Se uma classe herda de nn.Module ela é considerada um módulo do pytorch\n",
    "\n",
    "class Net(nn.Module):  # uma MLP com uma hidden layer!\n",
    "\n",
    "    def __init__(self, num_features, hidden_size, nb_classes):\n",
    "        super(Net, self).__init__()\n",
    "        self.in_layer = nn.Linear(num_features, hidden_size)\n",
    "        self.out_layer = nn.Linear(hidden_size, nb_classes)\n",
    "\n",
    "    def forward(self, x):\n",
    "        # Max pooling over a (2, 2) window\n",
    "        x = self.in_layer(x)\n",
    "        x = torch.relu(x)\n",
    "        x = self.out_layer(x)\n",
    "        x = torch.sigmoid(x)\n",
    "        return x\n",
    "    \n",
    "#     def backward(self, x):\n",
    "#         #  não precisa implementar isso\n",
    "#         pass\n",
    "\n",
    "mymlp = MyMLP(100, 50, 20, 2)\n",
    "net = Net(64*64, 120, 10)\n",
    "print(mymlp)\n",
    "print(net)"
   ]
  },
  {
   "cell_type": "markdown",
   "metadata": {},
   "source": [
    "Os parâmetros (pesos) que devem ser treinados para nossa rede (módulo) pode ser acessado com `.parameters()`"
   ]
  },
  {
   "cell_type": "code",
   "execution_count": 6,
   "metadata": {},
   "outputs": [
    {
     "name": "stdout",
     "output_type": "stream",
     "text": [
      "4\n",
      "torch.Size([120, 4096])\n"
     ]
    }
   ],
   "source": [
    "params = list(net.parameters())\n",
    "print(len(params))\n",
    "print(params[0].size())  # in_layer size"
   ]
  },
  {
   "cell_type": "markdown",
   "metadata": {},
   "source": [
    "Bora jogar uma entrada aleatória na rede, mesmo sem treinar, só pra ver o ue acontece"
   ]
  },
  {
   "cell_type": "code",
   "execution_count": 7,
   "metadata": {},
   "outputs": [
    {
     "name": "stdout",
     "output_type": "stream",
     "text": [
      "tensor([[0.5136, 0.4990, 0.5216, 0.5382, 0.5776, 0.5110, 0.5005, 0.5645, 0.4996,\n",
      "         0.4662]], grad_fn=<SigmoidBackward>)\n",
      "(tensor([0.5776], grad_fn=<MaxBackward0>), tensor([4]))\n"
     ]
    }
   ],
   "source": [
    "input = torch.randn(1, 64*64)  # primeira dim é o batch_size\n",
    "out = net(input)\n",
    "print(out)\n",
    "print(torch.max(out, dim=-1))"
   ]
  },
  {
   "cell_type": "markdown",
   "metadata": {},
   "source": [
    "## Função de custo\n",
    "\n",
    "Definir uma função de custo em pytorch é muito simples! As mais usadas na literatura já estão implementadas e basta chamar seu nome. Caso deseja criar uma nova, basta definir o `forward` e o resto será feito pelo pytorch! Vamos dar uma olhada nisso com exemplos"
   ]
  },
  {
   "cell_type": "code",
   "execution_count": 13,
   "metadata": {},
   "outputs": [
    {
     "name": "stdout",
     "output_type": "stream",
     "text": [
      "torch.Size([1, 10])\n",
      "tensor([[-2.3338,  0.7477, -0.4520, -0.3884,  0.0286,  0.9032, -1.0489,  1.1140,\n",
      "          2.5504, -0.1358]]) tensor([[0.5136, 0.4990, 0.5216, 0.5382, 0.5776, 0.5110, 0.5005, 0.5645, 0.4996,\n",
      "         0.4662]], grad_fn=<SigmoidBackward>)\n"
     ]
    }
   ],
   "source": [
    "output = net(input)\n",
    "target = torch.randn(10)  # a dummy target, for example\n",
    "target = target.view(1, -1)  # make it the same shape as output\n",
    "print(target.shape)\n",
    "print(target, output)\n",
    "my_loss = nn.MSELoss()"
   ]
  },
  {
   "cell_type": "markdown",
   "metadata": {},
   "source": [
    "lista completa de todas as losses: \n",
    "https://pytorch.org/docs/stable/nn.html#loss-functions"
   ]
  },
  {
   "cell_type": "code",
   "execution_count": 11,
   "metadata": {},
   "outputs": [
    {
     "data": {
      "text/plain": [
       "tensor(0.6290, grad_fn=<MseLossBackward>)"
      ]
     },
     "execution_count": 11,
     "metadata": {},
     "output_type": "execute_result"
    }
   ],
   "source": [
    "loss = my_loss(output, target)\n",
    "loss"
   ]
  },
  {
   "cell_type": "markdown",
   "metadata": {},
   "source": [
    "Se seguir o backprop pra loss, veremos que o grafo será o seguinte:\n",
    "\n",
    "input -> linear -> relu -> linear -> sigmoid\n",
    "      -> MSELoss\n",
    "      -> loss"
   ]
  },
  {
   "cell_type": "markdown",
   "metadata": {},
   "source": [
    "Backpropagation agora é como anteriormente! Só chamar loss.backward()"
   ]
  },
  {
   "cell_type": "code",
   "execution_count": 14,
   "metadata": {},
   "outputs": [
    {
     "name": "stdout",
     "output_type": "stream",
     "text": [
      "in_layer.bias.grad before backward\n",
      "None\n",
      "in_layer.bias.grad after backward\n",
      "tensor([ 0.0000e+00,  1.6721e-03, -4.4005e-03,  1.1139e-02,  1.0901e-02,\n",
      "         0.0000e+00,  0.0000e+00,  0.0000e+00, -2.0454e-03,  0.0000e+00,\n",
      "         8.1291e-03,  0.0000e+00,  0.0000e+00, -8.9753e-03, -4.0322e-03,\n",
      "         0.0000e+00, -3.5479e-03,  3.7232e-05,  2.2290e-03,  0.0000e+00,\n",
      "         4.3925e-03, -8.2164e-03,  7.2483e-03,  9.7614e-03,  0.0000e+00,\n",
      "        -1.1811e-02,  0.0000e+00, -4.8036e-03,  0.0000e+00, -5.1431e-03,\n",
      "         0.0000e+00,  9.2927e-03, -3.8401e-03,  0.0000e+00,  7.7450e-04,\n",
      "        -9.0245e-04,  0.0000e+00,  0.0000e+00,  0.0000e+00,  0.0000e+00,\n",
      "        -5.7607e-03,  5.2065e-03, -7.3092e-03,  0.0000e+00,  0.0000e+00,\n",
      "         0.0000e+00,  8.5516e-03,  0.0000e+00,  0.0000e+00,  0.0000e+00,\n",
      "        -4.8287e-03,  1.2702e-03,  0.0000e+00,  0.0000e+00,  0.0000e+00,\n",
      "         5.0386e-03,  1.1476e-02, -1.0987e-03,  0.0000e+00, -6.5559e-03,\n",
      "         7.6140e-03,  0.0000e+00, -1.9423e-03, -7.1128e-03, -1.5713e-04,\n",
      "         0.0000e+00, -3.4018e-03, -8.4301e-03, -1.7918e-03,  0.0000e+00,\n",
      "         0.0000e+00,  1.3926e-02,  2.8802e-03,  2.5268e-03,  2.0266e-03,\n",
      "         0.0000e+00, -9.1957e-03,  0.0000e+00,  0.0000e+00,  0.0000e+00,\n",
      "         0.0000e+00,  0.0000e+00,  0.0000e+00,  0.0000e+00,  0.0000e+00,\n",
      "         0.0000e+00,  0.0000e+00, -1.8822e-03,  3.8828e-04,  0.0000e+00,\n",
      "         0.0000e+00,  3.5981e-03, -9.9302e-04, -1.1872e-02,  3.1635e-03,\n",
      "         0.0000e+00, -6.9069e-03,  5.4965e-03,  0.0000e+00,  1.3031e-02,\n",
      "         0.0000e+00,  0.0000e+00,  8.9755e-03,  1.6856e-03,  0.0000e+00,\n",
      "         0.0000e+00, -1.1101e-03,  0.0000e+00, -3.8309e-03,  0.0000e+00,\n",
      "        -6.1043e-03,  0.0000e+00,  0.0000e+00,  0.0000e+00,  0.0000e+00,\n",
      "        -2.1520e-03, -5.1348e-03,  5.1058e-03,  0.0000e+00,  0.0000e+00])\n"
     ]
    }
   ],
   "source": [
    "net.zero_grad()     # zeroes the gradient buffers of all parameters\n",
    "\n",
    "print('in_layer.bias.grad before backward')\n",
    "print(net.in_layer.bias.grad)\n",
    "\n",
    "loss.backward()\n",
    "\n",
    "print('in_layer.bias.grad after backward')\n",
    "print(net.in_layer.bias.grad)"
   ]
  },
  {
   "cell_type": "markdown",
   "metadata": {},
   "source": [
    "## Atualizando os pesos (Optimizer)\n",
    "\n",
    "Na nossa regressão linear estavamos atualizando os pesos com a famosa regra \"delta\"\n",
    "\n",
    "    wi = wi - lr*wprev \n",
    "\n",
    "Mas existe uma gama de algoritmos que procuram atualizar os pesos de uma forma mais inteligente:\n",
    "\n",
    "<img src=\"http://cs231n.github.io/assets/nn3/opt2.gif\" width=\"45%\" style=\"float:left;\" />\n",
    "<img src=\"http://cs231n.github.io/assets/nn3/opt1.gif\" width=\"45%\" style=\"float:left;\" />"
   ]
  },
  {
   "cell_type": "code",
   "execution_count": 15,
   "metadata": {},
   "outputs": [],
   "source": [
    "# regra delta manualmente:\n",
    "learning_rate = 0.01\n",
    "for f in net.parameters():\n",
    "    f.data.sub_(f.grad.data * learning_rate)"
   ]
  },
  {
   "cell_type": "code",
   "execution_count": 17,
   "metadata": {},
   "outputs": [],
   "source": [
    "import torch.optim as optim\n",
    "\n",
    "# create your optimizer\n",
    "optimizer = optim.SGD(net.parameters(), lr=0.01)\n",
    "\n",
    "# in your training loop:\n",
    "optimizer.zero_grad()   # zero the gradient buffers\n",
    "output = net(input)\n",
    "loss = my_loss(output, target)\n",
    "loss.backward()\n",
    "optimizer.step()    # Does the update"
   ]
  },
  {
   "cell_type": "markdown",
   "metadata": {},
   "source": [
    "## Treinamento\n",
    "\n",
    "Basta seguir o passo acima por um número de épocas!"
   ]
  },
  {
   "cell_type": "code",
   "execution_count": 22,
   "metadata": {},
   "outputs": [
    {
     "name": "stdout",
     "output_type": "stream",
     "text": [
      "torch.Size([10, 4096]) torch.Size([10, 10])\n",
      "torch.Size([10, 4096]) torch.Size([10, 10])\n",
      "torch.Size([10, 4096]) torch.Size([10, 10])\n",
      "torch.Size([10, 4096]) torch.Size([10, 10])\n",
      "torch.Size([10, 4096]) torch.Size([10, 10])\n",
      "torch.Size([10, 4096]) torch.Size([10, 10])\n",
      "torch.Size([10, 4096]) torch.Size([10, 10])\n",
      "torch.Size([10, 4096]) torch.Size([10, 10])\n",
      "torch.Size([10, 4096]) torch.Size([10, 10])\n",
      "torch.Size([10, 4096]) torch.Size([10, 10])\n"
     ]
    }
   ],
   "source": [
    "my_loss = nn.MSELoss()\n",
    "optimizer = optim.SGD(net.parameters(), lr=0.01)  # olha a documentação os outros parâmetros que cada optimizer tem!\n",
    "dataset = []\n",
    "  \n",
    "for _ in range(10):\n",
    "    input = torch.randn(10, 64*64) # random input\n",
    "    target = torch.randn(10, 10) # a dummy target, for example and make it the same shape as output\n",
    "    dataset.append((input, target))\n",
    "\n",
    "for x,y in dataset:\n",
    "    print(x.shape, y.shape)"
   ]
  },
  {
   "cell_type": "code",
   "execution_count": 23,
   "metadata": {},
   "outputs": [
    {
     "name": "stdout",
     "output_type": "stream",
     "text": [
      "Acc:  0.1\n"
     ]
    }
   ],
   "source": [
    "for epoch in range(100):\n",
    "    for input, target in dataset:\n",
    "        output = net(input)\n",
    "        loss = my_loss(output, target)\n",
    "        loss.backward()\n",
    "        optimizer.step()    "
   ]
  },
  {
   "cell_type": "code",
   "execution_count": 24,
   "metadata": {},
   "outputs": [
    {
     "name": "stdout",
     "output_type": "stream",
     "text": [
      "Acc:  0.1\n"
     ]
    }
   ],
   "source": [
    "with torch.no_grad():\n",
    "    c = 0\n",
    "    for input, target in dataset:\n",
    "        output = net(input)\n",
    "        if torch.argmax(output) == torch.argmax(target):\n",
    "            c += 1\n",
    "    print('Acc: ', c/len(dataset))"
   ]
  }
 ],
 "metadata": {
  "kernelspec": {
   "display_name": "Python 3",
   "language": "python",
   "name": "python3"
  },
  "language_info": {
   "codemirror_mode": {
    "name": "ipython",
    "version": 3
   },
   "file_extension": ".py",
   "mimetype": "text/x-python",
   "name": "python",
   "nbconvert_exporter": "python",
   "pygments_lexer": "ipython3",
   "version": "3.6.7"
  }
 },
 "nbformat": 4,
 "nbformat_minor": 2
}
