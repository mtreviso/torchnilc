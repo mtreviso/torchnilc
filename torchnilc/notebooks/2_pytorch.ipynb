{
 "cells": [
  {
   "cell_type": "markdown",
   "metadata": {},
   "source": [
    "# PyTorch"
   ]
  },
  {
   "cell_type": "markdown",
   "metadata": {},
   "source": [
    "## 1.1. O que é o PyTorch? \n",
    "\n",
    "It’s a Python-based scientific computing package targeted at two sets of audiences (released in January 2016):\n",
    "\n",
    "- A replacement for NumPy to use the power of GPUs\n",
    "- A deep learning research platform that provides maximum flexibility and speed\n",
    "\n",
    "O Pytorch oferece uma série de recursos para criar/treinar/testar/analizar redes neurais de forma **eficiente**:\n",
    "- Camadas (Embeddings, Linear, LSTM, Convolucional, MaxPooling, ...)\n",
    "- Otimizadores (SGD, SGD com Momentum, RMSProp, Adam, ...)\n",
    "- Funções de custo (CrossEntropy, LogLoss, LogSoftmax, ...)\n",
    "- Funções de ativação (relu, tanh, sigmoid, selu, ...)\n",
    "- Diferenciação automática com acumulação de gradientes\n",
    "- Implementação eficiente com tensores!\n",
    "\n",
    "Existe outros frameworks para trabalhar com redes neurais: \n",
    "- tensorflow\n",
    "- mxnet\n",
    "- caffee\n",
    "- flux\n",
    "- chainer\n",
    "- keras\n",
    "- dl4j\n",
    "- etc\n",
    "    \n",
    "Cada um tem seu ponto forte. Por que escolher o PyTorch? \n",
    "- Mais intuitivo que o tf\n",
    "- Grafos dinâmicos!\n",
    "\n",
    "More info: http://pytorch.org/"
   ]
  },
  {
   "cell_type": "markdown",
   "metadata": {},
   "source": [
    "## 1.2 Semelhança com o numpy\n",
    "\n",
    "O PyTorch foi desenhado para ser *pythonico*, assim como o numpy. A estrutura base do Pytorch é um tensor, que nada mais é que um array com mais de duas dimensões. Trabalhar com as duas bibliotecas ao mesmo tempo é surpreendentemente simples.\n",
    "\n",
    "Além disso, assim como o numpy, o PyTorch está muito mais perto de ser uma biblioteca do que um framework (tf)! "
   ]
  },
  {
   "cell_type": "markdown",
   "metadata": {},
   "source": [
    "## 1.3 Programando com tensores\n",
    "\n",
    "Tensores são como arrays do numpy. \n",
    "\n",
    "Mais em: https://pytorch.org/tutorials/beginner/blitz/tensor_tutorial.html#tensors\n",
    "\n",
    "E tudo sobre tensores em: https://pytorch.org/docs/stable/torch.html"
   ]
  },
  {
   "cell_type": "code",
   "execution_count": 1,
   "metadata": {},
   "outputs": [],
   "source": [
    "import torch\n",
    "import numpy as np"
   ]
  },
  {
   "cell_type": "code",
   "execution_count": 2,
   "metadata": {},
   "outputs": [
    {
     "name": "stdout",
     "output_type": "stream",
     "text": [
      "tensor([[2.6017e-08, 4.5640e-41, 2.6017e-08],\n",
      "        [4.5640e-41, 2.5318e-12, 8.1465e-33],\n",
      "        [1.3563e-19, 1.8888e+31, 4.7414e+16],\n",
      "        [2.5171e-12, 8.0221e+17, 1.3556e-19],\n",
      "        [1.3563e-19, 1.3563e-19, 1.8561e-19]])\n",
      "[[3.3605128e-316 0.0000000e+000 0.0000000e+000]\n",
      " [0.0000000e+000 0.0000000e+000 0.0000000e+000]\n",
      " [0.0000000e+000 0.0000000e+000 0.0000000e+000]\n",
      " [0.0000000e+000 0.0000000e+000 0.0000000e+000]\n",
      " [0.0000000e+000 0.0000000e+000 0.0000000e+000]]\n"
     ]
    }
   ],
   "source": [
    "# Inicializa uma matrix 5x3 vazia\n",
    "x = torch.empty(5, 3)\n",
    "x_numpy = np.empty((5, 3))\n",
    "print(x)\n",
    "print(x_numpy)"
   ]
  },
  {
   "cell_type": "code",
   "execution_count": 3,
   "metadata": {},
   "outputs": [
    {
     "name": "stdout",
     "output_type": "stream",
     "text": [
      "tensor([[0.7089, 0.7477, 0.5514],\n",
      "        [0.4245, 0.0885, 0.3351],\n",
      "        [0.5306, 0.4357, 0.0218],\n",
      "        [0.1573, 0.0868, 0.4930],\n",
      "        [0.0322, 0.4926, 0.3143]])\n",
      "[[0.96279583 0.28558254 0.07845419]\n",
      " [0.51485171 0.85870125 0.05449323]\n",
      " [0.17880116 0.61906922 0.82283186]\n",
      " [0.42044731 0.0630003  0.70714701]\n",
      " [0.32732954 0.83024415 0.61141182]]\n"
     ]
    }
   ],
   "source": [
    "# Inicializa uma matrix 5x3 aleatoriamente\n",
    "x = torch.rand(5, 3)\n",
    "x_numpy = np.random.random((5, 3))\n",
    "print(x)\n",
    "print(x_numpy)"
   ]
  },
  {
   "cell_type": "code",
   "execution_count": 8,
   "metadata": {},
   "outputs": [
    {
     "name": "stdout",
     "output_type": "stream",
     "text": [
      "tensor([[0, 0, 0],\n",
      "        [0, 0, 0],\n",
      "        [0, 0, 0],\n",
      "        [0, 0, 0],\n",
      "        [0, 0, 0]])\n",
      "[[0 0 0]\n",
      " [0 0 0]\n",
      " [0 0 0]\n",
      " [0 0 0]\n",
      " [0 0 0]]\n",
      "torch.int64\n"
     ]
    }
   ],
   "source": [
    "# Construct a matrix filled zeros and of dtype long:\n",
    "x = torch.zeros(5, 3, dtype=torch.long)\n",
    "x_numpy = np.zeros((5, 3), dtype=np.int)\n",
    "print(x)\n",
    "print(x_numpy)\n",
    "print(x.dtype)"
   ]
  },
  {
   "cell_type": "code",
   "execution_count": 9,
   "metadata": {},
   "outputs": [
    {
     "name": "stdout",
     "output_type": "stream",
     "text": [
      "tensor([5.5000, 3.0000])\n",
      "[5.5 3. ]\n"
     ]
    }
   ],
   "source": [
    "# Construct a tensor directly from data (como usando numpy):\n",
    "x = torch.tensor([5.5, 3])\n",
    "x_numpy = np.array([5.5, 3])\n",
    "print(x)\n",
    "print(x_numpy)"
   ]
  },
  {
   "cell_type": "code",
   "execution_count": 10,
   "metadata": {},
   "outputs": [
    {
     "name": "stdout",
     "output_type": "stream",
     "text": [
      "torch.Size([5, 3])\n",
      "torch.Size([5, 3])\n",
      "3 3\n"
     ]
    }
   ],
   "source": [
    "# shape ou size\n",
    "x = torch.zeros(5,3)\n",
    "print(x.size())\n",
    "print(x.shape)\n",
    "print(x.size(1), x.shape[1])"
   ]
  },
  {
   "cell_type": "markdown",
   "metadata": {},
   "source": [
    "### Podemos fazer operações"
   ]
  },
  {
   "cell_type": "code",
   "execution_count": 11,
   "metadata": {},
   "outputs": [
    {
     "data": {
      "text/plain": [
       "tensor([[0.9642, 0.8301, 0.1592],\n",
       "        [0.3223, 0.6681, 0.4356],\n",
       "        [0.6792, 0.6872, 0.7054],\n",
       "        [0.3609, 0.1583, 0.9307],\n",
       "        [0.4873, 0.5962, 0.8263]])"
      ]
     },
     "execution_count": 11,
     "metadata": {},
     "output_type": "execute_result"
    }
   ],
   "source": [
    "y = torch.rand(5, 3)\n",
    "x + y"
   ]
  },
  {
   "cell_type": "code",
   "execution_count": 12,
   "metadata": {
    "scrolled": true
   },
   "outputs": [
    {
     "data": {
      "text/plain": [
       "tensor([[-0.9642, -0.8301, -0.1592],\n",
       "        [-0.3223, -0.6681, -0.4356],\n",
       "        [-0.6792, -0.6872, -0.7054],\n",
       "        [-0.3609, -0.1583, -0.9307],\n",
       "        [-0.4873, -0.5962, -0.8263]])"
      ]
     },
     "execution_count": 12,
     "metadata": {},
     "output_type": "execute_result"
    }
   ],
   "source": [
    "x - y"
   ]
  },
  {
   "cell_type": "code",
   "execution_count": 13,
   "metadata": {},
   "outputs": [
    {
     "data": {
      "text/plain": [
       "tensor([[0., 0., 0.],\n",
       "        [0., 0., 0.],\n",
       "        [0., 0., 0.],\n",
       "        [0., 0., 0.],\n",
       "        [0., 0., 0.]])"
      ]
     },
     "execution_count": 13,
     "metadata": {},
     "output_type": "execute_result"
    }
   ],
   "source": [
    "x * y"
   ]
  },
  {
   "cell_type": "code",
   "execution_count": 14,
   "metadata": {},
   "outputs": [
    {
     "data": {
      "text/plain": [
       "(torch.Size([5, 3]), torch.Size([5, 3]))"
      ]
     },
     "execution_count": 14,
     "metadata": {},
     "output_type": "execute_result"
    }
   ],
   "source": [
    "x.shape, y.shape"
   ]
  },
  {
   "cell_type": "code",
   "execution_count": 15,
   "metadata": {},
   "outputs": [
    {
     "name": "stdout",
     "output_type": "stream",
     "text": [
      "tensor([[0.9642, 0.8301, 0.1592],\n",
      "        [0.3223, 0.6681, 0.4356],\n",
      "        [0.6792, 0.6872, 0.7054],\n",
      "        [0.3609, 0.1583, 0.9307],\n",
      "        [0.4873, 0.5962, 0.8263]])\n"
     ]
    }
   ],
   "source": [
    "# Ou \n",
    "result = torch.empty(5, 3)\n",
    "torch.add(x, y, out=result)\n",
    "print(result)"
   ]
  },
  {
   "cell_type": "code",
   "execution_count": 16,
   "metadata": {},
   "outputs": [
    {
     "name": "stdout",
     "output_type": "stream",
     "text": [
      "tensor([[0.9642, 0.8301, 0.1592],\n",
      "        [0.3223, 0.6681, 0.4356],\n",
      "        [0.6792, 0.6872, 0.7054],\n",
      "        [0.3609, 0.1583, 0.9307],\n",
      "        [0.4873, 0.5962, 0.8263]])\n"
     ]
    }
   ],
   "source": [
    "# adds y to x inplace (observe o _ depois do add -> sempre que tiver _ no fim significa inplace)\n",
    "x.add_(y)\n",
    "print(x)"
   ]
  },
  {
   "cell_type": "code",
   "execution_count": 18,
   "metadata": {},
   "outputs": [
    {
     "data": {
      "text/plain": [
       "(tensor([[0.9642, 0.3223, 0.6792, 0.3609, 0.4873],\n",
       "         [0.8301, 0.6681, 0.6872, 0.1583, 0.5962],\n",
       "         [0.1592, 0.4356, 0.7054, 0.9307, 0.8263]]), torch.Size([3, 5]))"
      ]
     },
     "execution_count": 18,
     "metadata": {},
     "output_type": "execute_result"
    }
   ],
   "source": [
    "x.t(), x.t().shape"
   ]
  },
  {
   "cell_type": "code",
   "execution_count": 19,
   "metadata": {},
   "outputs": [
    {
     "data": {
      "text/plain": [
       "tensor([[0.9642, 0.3223, 0.6792, 0.3609, 0.4873],\n",
       "        [0.8301, 0.6681, 0.6872, 0.1583, 0.5962],\n",
       "        [0.1592, 0.4356, 0.7054, 0.9307, 0.8263]])"
      ]
     },
     "execution_count": 19,
     "metadata": {},
     "output_type": "execute_result"
    }
   ],
   "source": [
    "x.t_()"
   ]
  },
  {
   "cell_type": "code",
   "execution_count": 20,
   "metadata": {},
   "outputs": [
    {
     "data": {
      "text/plain": [
       "torch.Size([3, 5])"
      ]
     },
     "execution_count": 20,
     "metadata": {},
     "output_type": "execute_result"
    }
   ],
   "source": [
    "x.shape"
   ]
  },
  {
   "cell_type": "code",
   "execution_count": 23,
   "metadata": {},
   "outputs": [
    {
     "data": {
      "text/plain": [
       "tensor([[0.3223, 0.6792],\n",
       "        [0.6681, 0.6872],\n",
       "        [0.4356, 0.7054]])"
      ]
     },
     "execution_count": 23,
     "metadata": {},
     "output_type": "execute_result"
    }
   ],
   "source": [
    "# Slicing como no numpy\n",
    "x[:, 1:3]"
   ]
  },
  {
   "cell_type": "code",
   "execution_count": 24,
   "metadata": {},
   "outputs": [
    {
     "data": {
      "text/plain": [
       "tensor([[ 0.4160,  0.8218, -1.0194,  0.2082],\n",
       "        [ 1.2067,  0.4855,  0.3765,  0.6409],\n",
       "        [-0.6846, -1.3433,  0.5924,  0.9609],\n",
       "        [ 1.2193,  0.2412, -1.3169, -0.9883]])"
      ]
     },
     "execution_count": 24,
     "metadata": {},
     "output_type": "execute_result"
    }
   ],
   "source": [
    "# resizing - como o np.reshape\n",
    "x = torch.randn(4, 4)\n",
    "x"
   ]
  },
  {
   "cell_type": "code",
   "execution_count": 27,
   "metadata": {},
   "outputs": [
    {
     "data": {
      "text/plain": [
       "tensor([[ 0.4160,  0.8218, -1.0194,  0.2082,  1.2067,  0.4855,  0.3765,  0.6409],\n",
       "        [-0.6846, -1.3433,  0.5924,  0.9609,  1.2193,  0.2412, -1.3169, -0.9883]])"
      ]
     },
     "execution_count": 27,
     "metadata": {},
     "output_type": "execute_result"
    }
   ],
   "source": [
    "y = x.view(-1, 8)\n",
    "y"
   ]
  },
  {
   "cell_type": "code",
   "execution_count": 28,
   "metadata": {},
   "outputs": [
    {
     "name": "stdout",
     "output_type": "stream",
     "text": [
      "torch.Size([4, 4]) torch.Size([2, 8]) torch.Size([2, 8])\n"
     ]
    }
   ],
   "source": [
    "z = x.view(-1, 8)  # the size -1 is inferred from other dimensions\n",
    "print(x.size(), y.size(), z.size())"
   ]
  },
  {
   "cell_type": "code",
   "execution_count": 36,
   "metadata": {},
   "outputs": [
    {
     "name": "stdout",
     "output_type": "stream",
     "text": [
      "tensor([-1.0928])\n",
      "tensor([[ 0.4160,  0.8218, -1.0194,  0.2082],\n",
      "        [ 1.2067,  0.4855,  0.3765,  0.6409],\n",
      "        [-0.6846, -1.3433,  0.5924,  0.9609],\n",
      "        [ 1.2193,  0.2412, -1.3169, -0.9883]])\n"
     ]
    }
   ],
   "source": [
    "w = torch.randn(1)\n",
    "print(w)\n",
    "print(x)"
   ]
  },
  {
   "cell_type": "code",
   "execution_count": 38,
   "metadata": {},
   "outputs": [
    {
     "data": {
      "text/plain": [
       "(-1.092753529548645, tensor(0.4160), 0.4159660041332245)"
      ]
     },
     "execution_count": 38,
     "metadata": {},
     "output_type": "execute_result"
    }
   ],
   "source": [
    "w.item(), x[0][0], x[0,0].item()"
   ]
  },
  {
   "cell_type": "code",
   "execution_count": 39,
   "metadata": {},
   "outputs": [
    {
     "name": "stdout",
     "output_type": "stream",
     "text": [
      "[[ 0.9701633   2.012338  ]\n",
      " [-0.04868373  1.2698992 ]]\n",
      "tensor([[ 0.6970, -0.7571],\n",
      "        [-0.0435,  0.0709]])\n"
     ]
    }
   ],
   "source": [
    "# com numpy\n",
    "x_np = np.random.randn(2,2).astype('f')\n",
    "x_torch = torch.randn(2,2)\n",
    "print(x_np)\n",
    "print(x_torch)"
   ]
  },
  {
   "cell_type": "code",
   "execution_count": 40,
   "metadata": {},
   "outputs": [
    {
     "data": {
      "text/plain": [
       "array([[ 1.6671903 ,  1.2552327 ],\n",
       "       [-0.09213443,  1.3407732 ]], dtype=float32)"
      ]
     },
     "execution_count": 40,
     "metadata": {},
     "output_type": "execute_result"
    }
   ],
   "source": [
    "np.add(x_np, x_torch.numpy())"
   ]
  },
  {
   "cell_type": "code",
   "execution_count": 41,
   "metadata": {},
   "outputs": [
    {
     "data": {
      "text/plain": [
       "tensor([[ 1.6672,  1.2552],\n",
       "        [-0.0921,  1.3408]])"
      ]
     },
     "execution_count": 41,
     "metadata": {},
     "output_type": "execute_result"
    }
   ],
   "source": [
    "torch.add(torch.from_numpy(x_np), x_torch)"
   ]
  },
  {
   "cell_type": "markdown",
   "metadata": {},
   "source": [
    "### E pra usar GPU?\n",
    "\n",
    "Simples! Só mover tensores pra um dispositivo com suporte a CUDA!"
   ]
  },
  {
   "cell_type": "code",
   "execution_count": 42,
   "metadata": {},
   "outputs": [],
   "source": [
    "# let us run this cell only if CUDA is available\n",
    "# We will use ``torch.device`` objects to move tensors in and out of GPU\n",
    "if torch.cuda.is_available():\n",
    "    device = torch.device(\"cuda\")          # a CUDA device object\n",
    "    y = torch.ones_like(x, device=device)  # directly create a tensor on GPU\n",
    "    x = x.to(device)                       # or just use strings ``.to(\"cuda\")``\n",
    "    z = x + y\n",
    "    print(z)\n",
    "    print(z.to(\"cpu\", torch.double))       # ``.to`` can also change dtype together!"
   ]
  },
  {
   "cell_type": "markdown",
   "metadata": {},
   "source": [
    "### Operações mais sofisticadinhas"
   ]
  },
  {
   "cell_type": "code",
   "execution_count": 43,
   "metadata": {},
   "outputs": [
    {
     "data": {
      "text/plain": [
       "(torch.Size([4, 4]), torch.Size([2, 8]))"
      ]
     },
     "execution_count": 43,
     "metadata": {},
     "output_type": "execute_result"
    }
   ],
   "source": [
    "x.shape, y.shape"
   ]
  },
  {
   "cell_type": "code",
   "execution_count": 44,
   "metadata": {},
   "outputs": [
    {
     "data": {
      "text/plain": [
       "(tensor([[ 0.4160,  0.8218, -1.0194,  0.2082],\n",
       "         [ 1.2067,  0.4855,  0.3765,  0.6409],\n",
       "         [-0.6846, -1.3433,  0.5924,  0.9609],\n",
       "         [ 1.2193,  0.2412, -1.3169, -0.9883]]),\n",
       " tensor([[ 0.4160,  0.8218, -1.0194,  0.2082,  1.2067,  0.4855,  0.3765,  0.6409],\n",
       "         [-0.6846, -1.3433,  0.5924,  0.9609,  1.2193,  0.2412, -1.3169, -0.9883]]))"
      ]
     },
     "execution_count": 44,
     "metadata": {},
     "output_type": "execute_result"
    }
   ],
   "source": [
    "x, y"
   ]
  },
  {
   "cell_type": "code",
   "execution_count": 45,
   "metadata": {},
   "outputs": [
    {
     "ename": "RuntimeError",
     "evalue": "dot: Expected 1-D argument self, but got 2-D",
     "output_type": "error",
     "traceback": [
      "\u001b[0;31m---------------------------------------------------------------------------\u001b[0m",
      "\u001b[0;31mRuntimeError\u001b[0m                              Traceback (most recent call last)",
      "\u001b[0;32m<ipython-input-45-2d8de956f0b2>\u001b[0m in \u001b[0;36m<module>\u001b[0;34m\u001b[0m\n\u001b[0;32m----> 1\u001b[0;31m \u001b[0mx\u001b[0m\u001b[0;34m.\u001b[0m\u001b[0mdot\u001b[0m\u001b[0;34m(\u001b[0m\u001b[0my\u001b[0m\u001b[0;34m)\u001b[0m \u001b[0;31m# dot é para vetores, quando trabalhamos com matriz 2D+ usamos matmul\u001b[0m\u001b[0;34m\u001b[0m\u001b[0;34m\u001b[0m\u001b[0m\n\u001b[0m",
      "\u001b[0;31mRuntimeError\u001b[0m: dot: Expected 1-D argument self, but got 2-D"
     ]
    }
   ],
   "source": [
    "x.dot(y) # dot é para vetores, quando trabalhamos com matriz 2D+ usamos matmul"
   ]
  },
  {
   "cell_type": "code",
   "execution_count": 47,
   "metadata": {},
   "outputs": [
    {
     "data": {
      "text/plain": [
       "tensor([[ 2.1163,  2.1603, -0.9926, -0.5720],\n",
       "        [ 1.6114,  0.8761, -1.6682,  0.2908],\n",
       "        [-1.1397, -1.7786, -0.7224, -1.3838],\n",
       "        [ 0.4948,  2.6496, -0.6307,  0.1197]])"
      ]
     },
     "execution_count": 47,
     "metadata": {},
     "output_type": "execute_result"
    }
   ],
   "source": [
    "x.matmul(y.view(4, -1))"
   ]
  },
  {
   "cell_type": "code",
   "execution_count": 53,
   "metadata": {},
   "outputs": [
    {
     "data": {
      "text/plain": [
       "torch.Size([3, 5, 10, 2])"
      ]
     },
     "execution_count": 53,
     "metadata": {},
     "output_type": "execute_result"
    }
   ],
   "source": [
    "# teste aqui com matrizes com mais de 2 dims\n",
    "z = torch.randn(3, 5, 10, 2)\n",
    "z.shape"
   ]
  },
  {
   "cell_type": "code",
   "execution_count": 60,
   "metadata": {},
   "outputs": [
    {
     "data": {
      "text/plain": [
       "(3, 5, 10, 8)"
      ]
     },
     "execution_count": 60,
     "metadata": {},
     "output_type": "execute_result"
    }
   ],
   "source": [
    "z.matmul(y).shape\n",
    "znp = z.numpy()\n",
    "ynp = y.numpy()"
   ]
  },
  {
   "cell_type": "markdown",
   "metadata": {},
   "source": [
    "### Broadcasting"
   ]
  },
  {
   "cell_type": "code",
   "execution_count": 81,
   "metadata": {},
   "outputs": [],
   "source": [
    "m = torch.rand(4, 4)\n",
    "v = torch.arange(4, dtype=torch.float)"
   ]
  },
  {
   "cell_type": "code",
   "execution_count": 62,
   "metadata": {},
   "outputs": [
    {
     "data": {
      "text/plain": [
       "(tensor([[0.7404, 0.9160, 0.1080, 0.1050],\n",
       "         [0.9971, 0.2619, 0.5088, 0.6594],\n",
       "         [0.3070, 0.7696, 0.5393, 0.1829],\n",
       "         [0.1108, 0.0894, 0.0267, 0.8577],\n",
       "         [0.5528, 0.9082, 0.5896, 0.3926]]), torch.Size([5, 4]))"
      ]
     },
     "execution_count": 62,
     "metadata": {},
     "output_type": "execute_result"
    }
   ],
   "source": [
    "m, m.shape"
   ]
  },
  {
   "cell_type": "code",
   "execution_count": 63,
   "metadata": {},
   "outputs": [
    {
     "data": {
      "text/plain": [
       "(tensor([0., 1., 2., 3.]), torch.Size([4]))"
      ]
     },
     "execution_count": 63,
     "metadata": {},
     "output_type": "execute_result"
    }
   ],
   "source": [
    "v, v.shape"
   ]
  },
  {
   "cell_type": "code",
   "execution_count": 64,
   "metadata": {},
   "outputs": [
    {
     "data": {
      "text/plain": [
       "tensor([[0.7404, 1.9160, 2.1080, 3.1050],\n",
       "        [0.9971, 1.2619, 2.5088, 3.6594],\n",
       "        [0.3070, 1.7696, 2.5393, 3.1829],\n",
       "        [0.1108, 1.0894, 2.0267, 3.8577],\n",
       "        [0.5528, 1.9082, 2.5896, 3.3926]])"
      ]
     },
     "execution_count": 64,
     "metadata": {},
     "output_type": "execute_result"
    }
   ],
   "source": [
    "m + v"
   ]
  },
  {
   "cell_type": "code",
   "execution_count": 66,
   "metadata": {},
   "outputs": [
    {
     "ename": "RuntimeError",
     "evalue": "The size of tensor a (4) must match the size of tensor b (2) at non-singleton dimension 1",
     "output_type": "error",
     "traceback": [
      "\u001b[0;31m---------------------------------------------------------------------------\u001b[0m",
      "\u001b[0;31mRuntimeError\u001b[0m                              Traceback (most recent call last)",
      "\u001b[0;32m<ipython-input-66-7983e56ad58c>\u001b[0m in \u001b[0;36m<module>\u001b[0;34m\u001b[0m\n\u001b[1;32m      1\u001b[0m \u001b[0mv\u001b[0m \u001b[0;34m=\u001b[0m \u001b[0mv\u001b[0m\u001b[0;34m.\u001b[0m\u001b[0mview\u001b[0m\u001b[0;34m(\u001b[0m\u001b[0;36m2\u001b[0m\u001b[0;34m,\u001b[0m\u001b[0;36m2\u001b[0m\u001b[0;34m)\u001b[0m\u001b[0;34m\u001b[0m\u001b[0;34m\u001b[0m\u001b[0m\n\u001b[1;32m      2\u001b[0m \u001b[0mv\u001b[0m\u001b[0;34m,\u001b[0m \u001b[0mv\u001b[0m\u001b[0;34m.\u001b[0m\u001b[0mshape\u001b[0m\u001b[0;34m\u001b[0m\u001b[0;34m\u001b[0m\u001b[0m\n\u001b[0;32m----> 3\u001b[0;31m \u001b[0mm\u001b[0m \u001b[0;34m+\u001b[0m \u001b[0mv\u001b[0m\u001b[0;34m\u001b[0m\u001b[0;34m\u001b[0m\u001b[0m\n\u001b[0m",
      "\u001b[0;31mRuntimeError\u001b[0m: The size of tensor a (4) must match the size of tensor b (2) at non-singleton dimension 1"
     ]
    }
   ],
   "source": [
    "v = v.view(2,2)\n",
    "v, v.shape\n",
    "m + v"
   ]
  },
  {
   "cell_type": "code",
   "execution_count": 82,
   "metadata": {},
   "outputs": [
    {
     "data": {
      "text/plain": [
       "(tensor([[0.],\n",
       "         [1.],\n",
       "         [2.],\n",
       "         [3.]]), torch.Size([4, 1]))"
      ]
     },
     "execution_count": 82,
     "metadata": {},
     "output_type": "execute_result"
    }
   ],
   "source": [
    "v = v.view(4,1)\n",
    "v, v.shape"
   ]
  },
  {
   "cell_type": "code",
   "execution_count": 83,
   "metadata": {},
   "outputs": [
    {
     "data": {
      "text/plain": [
       "tensor([[0.5817, 0.0583, 0.1579, 0.3860],\n",
       "        [1.8699, 1.3118, 1.0762, 1.9927],\n",
       "        [2.5890, 2.1340, 2.6200, 2.3858],\n",
       "        [3.7861, 3.0029, 3.6211, 3.2635]])"
      ]
     },
     "execution_count": 83,
     "metadata": {},
     "output_type": "execute_result"
    }
   ],
   "source": [
    "# Note that shape [4, 1] is not broadcastable to match [5, 4]!\n",
    "m + v"
   ]
  },
  {
   "cell_type": "code",
   "execution_count": 73,
   "metadata": {},
   "outputs": [
    {
     "data": {
      "text/plain": [
       "(tensor([[0., 1., 2., 3.]]), torch.Size([1, 4]), torch.Size([4]))"
      ]
     },
     "execution_count": 73,
     "metadata": {},
     "output_type": "execute_result"
    }
   ],
   "source": [
    "v = v.view(1, 4)\n",
    "\n",
    "v, v.shape, v.squeeze(0).shape"
   ]
  },
  {
   "cell_type": "code",
   "execution_count": 85,
   "metadata": {},
   "outputs": [
    {
     "data": {
      "text/plain": [
       "tensor([[423.5817, 423.0583, 423.1579, 423.3860],\n",
       "        [423.8699, 423.3119, 423.0762, 423.9927],\n",
       "        [423.5890, 423.1340, 423.6200, 423.3858],\n",
       "        [423.7861, 423.0029, 423.6211, 423.2635]])"
      ]
     },
     "execution_count": 85,
     "metadata": {},
     "output_type": "execute_result"
    }
   ],
   "source": [
    "m + 423"
   ]
  },
  {
   "cell_type": "markdown",
   "metadata": {},
   "source": [
    "### Funções úteis"
   ]
  },
  {
   "cell_type": "code",
   "execution_count": 88,
   "metadata": {},
   "outputs": [],
   "source": [
    "# !pipenv install --skip-lock matplotlib\n",
    "from matplotlib import pyplot as plt "
   ]
  },
  {
   "cell_type": "code",
   "execution_count": 87,
   "metadata": {},
   "outputs": [
    {
     "name": "stdout",
     "output_type": "stream",
     "text": [
      "1_first_words.ipynb  2_pytorch.ipynb  3_redes_neurais.ipynb  4_NLP.ipynb\r\n"
     ]
    }
   ],
   "source": [
    "!ls"
   ]
  },
  {
   "cell_type": "code",
   "execution_count": 90,
   "metadata": {},
   "outputs": [
    {
     "data": {
      "text/plain": [
       "(tensor([-10.0000,  -9.9000,  -9.8000,  -9.7000,  -9.6000,  -9.5000,  -9.4000,\n",
       "          -9.3000,  -9.2000,  -9.1000,  -9.0000,  -8.9000,  -8.8000,  -8.7000,\n",
       "          -8.6000,  -8.5000,  -8.4000,  -8.3000,  -8.2000,  -8.1000,  -8.0000,\n",
       "          -7.9000,  -7.8000,  -7.7000,  -7.6000,  -7.5000,  -7.4000,  -7.3000,\n",
       "          -7.2000,  -7.1000,  -7.0000,  -6.9000,  -6.8000,  -6.7000,  -6.6000,\n",
       "          -6.5000,  -6.4000,  -6.3000,  -6.2000,  -6.1000,  -6.0000,  -5.9000,\n",
       "          -5.8000,  -5.7000,  -5.6000,  -5.5000,  -5.4000,  -5.3000,  -5.2000,\n",
       "          -5.1000,  -5.0000,  -4.9000,  -4.8000,  -4.7000,  -4.6000,  -4.5000,\n",
       "          -4.4000,  -4.3000,  -4.2000,  -4.1000,  -4.0000,  -3.9000,  -3.8000,\n",
       "          -3.7000,  -3.6000,  -3.5000,  -3.4000,  -3.3000,  -3.2000,  -3.1000,\n",
       "          -3.0000,  -2.9000,  -2.8000,  -2.7000,  -2.6000,  -2.5000,  -2.4000,\n",
       "          -2.3000,  -2.2000,  -2.1000,  -2.0000,  -1.9000,  -1.8000,  -1.7000,\n",
       "          -1.6000,  -1.5000,  -1.4000,  -1.3000,  -1.2000,  -1.1000,  -1.0000,\n",
       "          -0.9000,  -0.8000,  -0.7000,  -0.6000,  -0.5000,  -0.4000,  -0.3000,\n",
       "          -0.2000,  -0.1000,   0.0000,   0.1000,   0.2000,   0.3000,   0.4000,\n",
       "           0.5000,   0.6000,   0.7000,   0.8000,   0.9000,   1.0000,   1.1000,\n",
       "           1.2000,   1.3000,   1.4000,   1.5000,   1.6000,   1.7000,   1.8000,\n",
       "           1.9000,   2.0000,   2.1000,   2.2000,   2.3000,   2.4000,   2.5000,\n",
       "           2.6000,   2.7000,   2.8000,   2.9000,   3.0000,   3.1000,   3.2000,\n",
       "           3.3000,   3.4000,   3.5000,   3.6000,   3.7000,   3.8000,   3.9000,\n",
       "           4.0000,   4.1000,   4.2000,   4.3000,   4.4000,   4.5000,   4.6000,\n",
       "           4.7000,   4.8000,   4.9000,   5.0000,   5.1000,   5.2000,   5.3000,\n",
       "           5.4000,   5.5000,   5.6000,   5.7000,   5.8000,   5.9000,   6.0000,\n",
       "           6.1000,   6.2000,   6.3000,   6.4000,   6.5000,   6.6000,   6.7000,\n",
       "           6.8000,   6.9000,   7.0000,   7.1000,   7.2000,   7.3000,   7.4000,\n",
       "           7.5000,   7.6000,   7.7000,   7.8000,   7.9000,   8.0000,   8.1000,\n",
       "           8.2000,   8.3000,   8.4000,   8.5000,   8.6000,   8.7000,   8.8000,\n",
       "           8.9000,   9.0000,   9.1000,   9.2000,   9.3000,   9.4000,   9.5000,\n",
       "           9.6000,   9.7000,   9.8000,   9.9000]), torch.Size([200]))"
      ]
     },
     "execution_count": 90,
     "metadata": {},
     "output_type": "execute_result"
    }
   ],
   "source": [
    "x = torch.arange(-10, 10, 0.1, dtype=torch.float)\n",
    "x, x.shape"
   ]
  },
  {
   "cell_type": "code",
   "execution_count": 91,
   "metadata": {},
   "outputs": [
    {
     "data": {
      "text/plain": [
       "[<matplotlib.lines.Line2D at 0x7f39c1e27320>]"
      ]
     },
     "execution_count": 91,
     "metadata": {},
     "output_type": "execute_result"
    },
    {
     "data": {
      "image/png": "[encoded data removed]",
      "text/plain": [
       "<Figure size 432x288 with 1 Axes>"
      ]
     },
     "metadata": {
      "needs_background": "light"
     },
     "output_type": "display_data"
    }
   ],
   "source": [
    "y = x.sin()\n",
    "plt.plot(x.numpy(), y.numpy(), '.')"
   ]
  },
  {
   "cell_type": "code",
   "execution_count": 94,
   "metadata": {},
   "outputs": [
    {
     "name": "stdout",
     "output_type": "stream",
     "text": [
      "torch.Size([200])\n"
     ]
    },
    {
     "data": {
      "text/plain": [
       "[<matplotlib.lines.Line2D at 0x7f39c1c51e10>]"
      ]
     },
     "execution_count": 94,
     "metadata": {},
     "output_type": "execute_result"
    },
    {
     "data": {
      "image/png": "[encoded data removed]",
      "text/plain": [
       "<Figure size 432x288 with 1 Axes>"
      ]
     },
     "metadata": {
      "needs_background": "light"
     },
     "output_type": "display_data"
    }
   ],
   "source": [
    "# softmax\n",
    "e = torch.exp(x)\n",
    "softmax = e / e.sum()\n",
    "plt.plot(x.numpy(), softmax.numpy(), '.')"
   ]
  },
  {
   "cell_type": "code",
   "execution_count": 95,
   "metadata": {},
   "outputs": [
    {
     "data": {
      "text/plain": [
       "[<matplotlib.lines.Line2D at 0x7f39c1c31d68>]"
      ]
     },
     "execution_count": 95,
     "metadata": {},
     "output_type": "execute_result"
    },
    {
     "data": {
      "image/png": "[encoded data removed]",
      "text/plain": [
       "<Figure size 432x288 with 1 Axes>"
      ]
     },
     "metadata": {
      "needs_background": "light"
     },
     "output_type": "display_data"
    }
   ],
   "source": [
    "# softmax com pytorch\n",
    "\n",
    "y = torch.softmax(x, dim=-1)\n",
    "plt.plot(x.numpy(), y.numpy(), '.')"
   ]
  },
  {
   "cell_type": "code",
   "execution_count": 96,
   "metadata": {},
   "outputs": [
    {
     "data": {
      "text/plain": [
       "(tensor([ 0.9756, -0.4846, -0.6040,  0.0124,  0.3062, -1.1141,  0.8850, -0.6469,\n",
       "         -0.1497, -1.1124, -0.7725,  0.8379,  0.2288,  1.8478, -0.9300,  0.7579,\n",
       "          1.0389,  0.3794,  2.5895, -1.1319, -1.0873,  0.3998,  0.2198, -0.3749,\n",
       "         -0.7912,  1.0297,  0.6366,  0.2387,  1.7545, -0.5244,  0.1901,  1.4756,\n",
       "          0.9752,  0.2123,  0.3501, -0.0394, -0.8250,  0.5301,  1.6495,  0.8975,\n",
       "         -1.6026,  0.1300,  2.1749, -0.2781, -0.2210,  1.1500,  1.3237,  0.9761,\n",
       "          0.2024, -0.2333,  0.0113,  1.3447,  0.0855, -0.0950, -0.8470,  1.6552,\n",
       "         -0.4569, -0.2977,  0.8822, -0.3477, -0.1604,  1.0268, -0.0711, -1.2219,\n",
       "          0.8455,  1.4210, -1.2016,  0.6577, -0.0352, -0.0890, -0.6926, -0.8179,\n",
       "          1.7293, -0.4186,  1.1009, -1.8197,  0.9270, -0.2906, -0.3581, -1.1331,\n",
       "         -0.5303,  1.1164, -1.6305,  0.0394,  0.6778,  1.4955, -0.0979, -1.6568,\n",
       "         -0.0712,  0.9088,  1.2387,  1.8176,  1.0966, -0.4599, -1.7083, -0.1467,\n",
       "          1.0265, -1.4419,  2.4800,  0.7160]), torch.Size([100]))"
      ]
     },
     "execution_count": 96,
     "metadata": {},
     "output_type": "execute_result"
    }
   ],
   "source": [
    "# bora ver outro x\n",
    "x = torch.randn([100])\n",
    "x, x.shape"
   ]
  },
  {
   "cell_type": "code",
   "execution_count": 97,
   "metadata": {},
   "outputs": [
    {
     "data": {
      "text/plain": [
       "tensor([0.0134, 0.0031, 0.0028, 0.0051, 0.0069, 0.0017, 0.0123, 0.0027, 0.0044,\n",
       "        0.0017, 0.0023, 0.0117, 0.0064, 0.0322, 0.0020, 0.0108, 0.0143, 0.0074,\n",
       "        0.0675, 0.0016, 0.0017, 0.0076, 0.0063, 0.0035, 0.0023, 0.0142, 0.0096,\n",
       "        0.0064, 0.0293, 0.0030, 0.0061, 0.0222, 0.0134, 0.0063, 0.0072, 0.0049,\n",
       "        0.0022, 0.0086, 0.0264, 0.0124, 0.0010, 0.0058, 0.0446, 0.0038, 0.0041,\n",
       "        0.0160, 0.0190, 0.0135, 0.0062, 0.0040, 0.0051, 0.0195, 0.0055, 0.0046,\n",
       "        0.0022, 0.0265, 0.0032, 0.0038, 0.0123, 0.0036, 0.0043, 0.0142, 0.0047,\n",
       "        0.0015, 0.0118, 0.0210, 0.0015, 0.0098, 0.0049, 0.0046, 0.0025, 0.0022,\n",
       "        0.0286, 0.0033, 0.0152, 0.0008, 0.0128, 0.0038, 0.0035, 0.0016, 0.0030,\n",
       "        0.0155, 0.0010, 0.0053, 0.0100, 0.0226, 0.0046, 0.0010, 0.0047, 0.0126,\n",
       "        0.0175, 0.0312, 0.0152, 0.0032, 0.0009, 0.0044, 0.0142, 0.0012, 0.0605,\n",
       "        0.0104])"
      ]
     },
     "execution_count": 97,
     "metadata": {},
     "output_type": "execute_result"
    }
   ],
   "source": [
    "y = torch.softmax(x, dim=0)\n",
    "y"
   ]
  },
  {
   "cell_type": "code",
   "execution_count": 98,
   "metadata": {},
   "outputs": [
    {
     "data": {
      "text/plain": [
       "[<matplotlib.lines.Line2D at 0x7f39c1b92dd8>]"
      ]
     },
     "execution_count": 98,
     "metadata": {},
     "output_type": "execute_result"
    },
    {
     "data": {
      "image/png": "[encoded data removed]",
      "text/plain": [
       "<Figure size 432x288 with 1 Axes>"
      ]
     },
     "metadata": {
      "needs_background": "light"
     },
     "output_type": "display_data"
    }
   ],
   "source": [
    "plt.plot(x.numpy(), y.numpy(), '.')"
   ]
  },
  {
   "cell_type": "code",
   "execution_count": 99,
   "metadata": {},
   "outputs": [
    {
     "data": {
      "text/plain": [
       "[<matplotlib.lines.Line2D at 0x7f39c1b72a58>]"
      ]
     },
     "execution_count": 99,
     "metadata": {},
     "output_type": "execute_result"
    },
    {
     "data": {
      "image/png": "[encoded data removed]",
      "text/plain": [
       "<Figure size 432x288 with 1 Axes>"
      ]
     },
     "metadata": {
      "needs_background": "light"
     },
     "output_type": "display_data"
    }
   ],
   "source": [
    "plt.plot(np.arange(x.shape[0]), y.numpy(), '.')"
   ]
  },
  {
   "cell_type": "code",
   "execution_count": 100,
   "metadata": {},
   "outputs": [
    {
     "data": {
      "text/plain": [
       "(tensor(-1.8197), tensor(75))"
      ]
     },
     "execution_count": 100,
     "metadata": {},
     "output_type": "execute_result"
    }
   ],
   "source": [
    "torch.min(x, dim=0)"
   ]
  },
  {
   "cell_type": "code",
   "execution_count": 101,
   "metadata": {
    "scrolled": true
   },
   "outputs": [
    {
     "data": {
      "text/plain": [
       "(tensor(2.5895), tensor(18))"
      ]
     },
     "execution_count": 101,
     "metadata": {},
     "output_type": "execute_result"
    }
   ],
   "source": [
    "torch.max(x, dim=0)"
   ]
  },
  {
   "cell_type": "markdown",
   "metadata": {},
   "source": [
    "## 1.4. Autograd - diferenciação automática"
   ]
  },
  {
   "cell_type": "markdown",
   "metadata": {},
   "source": [
    "O PyTorch tem um módulo chamado autograd (`torch.autograd`) que está por trás de todas as redes neurais. Ele é responsável por calcular automaticamente a derivada da função de custo em relação aos pesos e nos retornar os gradientes.\n",
    "\n",
    "Ele realiza diferenciação automática para todas operações sobre tensores (`transpose, add, matmul`, etc). É definido no momento de execução, isso significa que o backpropagation é definido pelo modo como seu código é executado, e a cada iteração pode ser diferente."
   ]
  },
  {
   "cell_type": "markdown",
   "metadata": {},
   "source": [
    "`torch.Tensor` é a classe central do pacote.\n",
    "\n",
    "- `x.requires_grad=True`: Mantém um histórico de operações para o tensor x.\n",
    "- `x.backward()`: Quando finalizar suas operações, chama backward() e esse método vai calcular todos os gradientes\n",
    "- `x.grad`: Os gradientes vão ser acumulados nesse atributo\n",
    "- `x.detach()`: Tira x do grafo de computação -> faz o torch parar de manter um histórico pra esse tensor\n",
    "- `x.grad_fn`: Referencia a Function que criou esse tensor\n",
    "- `with torch.no_grad():` Tudo que estiver dentro do with não será mantido um histórico dos gradientes (bom para quando queremos apenas avaliar modelos)\n"
   ]
  },
  {
   "cell_type": "code",
   "execution_count": 102,
   "metadata": {},
   "outputs": [
    {
     "data": {
      "text/plain": [
       "tensor([[1., 1.],\n",
       "        [1., 1.]], requires_grad=True)"
      ]
     },
     "execution_count": 102,
     "metadata": {},
     "output_type": "execute_result"
    }
   ],
   "source": [
    "x = torch.ones(2, 2, requires_grad=True)\n",
    "x"
   ]
  },
  {
   "cell_type": "code",
   "execution_count": 103,
   "metadata": {},
   "outputs": [
    {
     "data": {
      "text/plain": [
       "(None, None)"
      ]
     },
     "execution_count": 103,
     "metadata": {},
     "output_type": "execute_result"
    }
   ],
   "source": [
    "x.grad, x.grad_fn"
   ]
  },
  {
   "cell_type": "code",
   "execution_count": 104,
   "metadata": {},
   "outputs": [
    {
     "data": {
      "text/plain": [
       "tensor([[3., 3.],\n",
       "        [3., 3.]], grad_fn=<AddBackward0>)"
      ]
     },
     "execution_count": 104,
     "metadata": {},
     "output_type": "execute_result"
    }
   ],
   "source": [
    "y = x + 2\n",
    "y"
   ]
  },
  {
   "cell_type": "code",
   "execution_count": 105,
   "metadata": {},
   "outputs": [
    {
     "data": {
      "text/plain": [
       "(True, None, <AddBackward0 at 0x7f39c1b28940>)"
      ]
     },
     "execution_count": 105,
     "metadata": {},
     "output_type": "execute_result"
    }
   ],
   "source": [
    "y.requires_grad, y.grad, y.grad_fn"
   ]
  },
  {
   "cell_type": "code",
   "execution_count": 106,
   "metadata": {},
   "outputs": [],
   "source": [
    "z = y * y * 3\n",
    "out = z.mean()"
   ]
  },
  {
   "cell_type": "code",
   "execution_count": 108,
   "metadata": {},
   "outputs": [
    {
     "data": {
      "text/plain": [
       "tensor([[27., 27.],\n",
       "        [27., 27.]], grad_fn=<MulBackward0>)"
      ]
     },
     "execution_count": 108,
     "metadata": {},
     "output_type": "execute_result"
    }
   ],
   "source": [
    "z"
   ]
  },
  {
   "cell_type": "code",
   "execution_count": 109,
   "metadata": {},
   "outputs": [
    {
     "data": {
      "text/plain": [
       "tensor(27., grad_fn=<MeanBackward1>)"
      ]
     },
     "execution_count": 109,
     "metadata": {},
     "output_type": "execute_result"
    }
   ],
   "source": [
    "out"
   ]
  },
  {
   "cell_type": "markdown",
   "metadata": {},
   "source": [
    "O que aconteceu aqui?\n",
    "\n",
    "    x = 1\n",
    "    y = 1 + 2 = 3\n",
    "    z = 3 * 3 * 3 = 27\n",
    "    out = (27+27) / 2 = 27"
   ]
  },
  {
   "cell_type": "markdown",
   "metadata": {},
   "source": [
    "#### Bora ver esses gradientes"
   ]
  },
  {
   "cell_type": "code",
   "execution_count": 110,
   "metadata": {},
   "outputs": [],
   "source": [
    "out.backward()"
   ]
  },
  {
   "cell_type": "code",
   "execution_count": 113,
   "metadata": {},
   "outputs": [
    {
     "data": {
      "text/plain": [
       "tensor([[4.5000, 4.5000],\n",
       "        [4.5000, 4.5000]])"
      ]
     },
     "execution_count": 113,
     "metadata": {},
     "output_type": "execute_result"
    }
   ],
   "source": [
    "x.grad"
   ]
  },
  {
   "cell_type": "code",
   "execution_count": 119,
   "metadata": {},
   "outputs": [
    {
     "data": {
      "text/plain": [
       "(<MeanBackward1 at 0x7f39c1b0c3c8>,\n",
       " <MulBackward0 at 0x7f39c1b0c320>,\n",
       " <AddBackward0 at 0x7f39c1b28940>,\n",
       " None)"
      ]
     },
     "execution_count": 119,
     "metadata": {},
     "output_type": "execute_result"
    }
   ],
   "source": [
    "out.grad_fn, z.grad_fn, y.grad_fn, x.grad_fn"
   ]
  },
  {
   "cell_type": "markdown",
   "metadata": {},
   "source": [
    "O que aconteceu aqui? Derivada parcial de `out` em relação a `x`. Tchê, derivada de x^2 = 2x, e derivada de 2x = 2, então segue o raciocínio\n",
    "    \n",
    "    ∂out/∂x\n",
    "    out = 1/4 sum z_i\n",
    "    z_i = 3 y_i^2\n",
    "    y_i = x_i + 2\n",
    "    ---\n",
    "    ∂out/∂x = 1/4 sum 3 (x + 2)^2\n",
    "            = 1/4 sum 3 * 2 (x + 2)\n",
    "            = 1/4 sum 6 (x + 2) * 1\n",
    "            = 3/2 sum (x + 2)\n",
    "    ---\n",
    "    x_i.grad = 3/2 * (x_i + 2)\n",
    "             = 3/2 * (1 + 2) \n",
    "             = 3*3/2 \n",
    "             = 4.5"
   ]
  },
  {
   "cell_type": "markdown",
   "metadata": {},
   "source": [
    "## 1.5. Exemplo\n",
    "\n",
    "Implementando um classificador baseado em retas (ou polinômios maiores)!"
   ]
  },
  {
   "cell_type": "markdown",
   "metadata": {},
   "source": [
    "####  Linear Regression problem\n",
    "\n",
    "The goal of linear regression is to fit a line to a set of points"
   ]
  },
  {
   "cell_type": "code",
   "execution_count": 120,
   "metadata": {},
   "outputs": [],
   "source": [
    "def reta(x, a, b):\n",
    "    return a*x + b"
   ]
  },
  {
   "cell_type": "code",
   "execution_count": 121,
   "metadata": {},
   "outputs": [],
   "source": [
    "def gen_linear_fake_data(n, a, b, spred=3):\n",
    "    x = np.random.uniform(0, 1, n) \n",
    "    y = reta(x, a, b) + 0.1 * np.random.normal(0, spred, n)\n",
    "    return x, y\n",
    "\n",
    "def gen_logistic_fake_data(n, a, b, nb_labels=2):\n",
    "    x, y = gen_linear_fake_data(n, a, b, spred=10)\n",
    "    z = reta(x, a, b)\n",
    "    labels = y > z\n",
    "    return x, y, labels"
   ]
  },
  {
   "cell_type": "code",
   "execution_count": 122,
   "metadata": {},
   "outputs": [
    {
     "data": {
      "text/plain": [
       "<matplotlib.collections.PathCollection at 0x7f39c1add8d0>"
      ]
     },
     "execution_count": 122,
     "metadata": {},
     "output_type": "execute_result"
    },
    {
     "data": {
      "image/png": "[encoded data removed]",
      "text/plain": [
       "<Figure size 432x288 with 1 Axes>"
      ]
     },
     "metadata": {
      "needs_background": "light"
     },
     "output_type": "display_data"
    }
   ],
   "source": [
    "x, y = gen_linear_fake_data(80, 3, 8)\n",
    "plt.scatter(x, y)"
   ]
  },
  {
   "cell_type": "code",
   "execution_count": 123,
   "metadata": {},
   "outputs": [],
   "source": [
    "def mse(y_hat, y): \n",
    "    return np.mean(np.power(y_hat - y, 2))"
   ]
  },
  {
   "cell_type": "code",
   "execution_count": 125,
   "metadata": {},
   "outputs": [],
   "source": [
    "y_hat = reta(x, 10, 6)"
   ]
  },
  {
   "cell_type": "code",
   "execution_count": 126,
   "metadata": {},
   "outputs": [
    {
     "data": {
      "text/plain": [
       "(6.914846811444629, 0.08761196354313147)"
      ]
     },
     "execution_count": 126,
     "metadata": {},
     "output_type": "execute_result"
    }
   ],
   "source": [
    "mse(y_hat, y), mse(reta(x, 3, 8), y)"
   ]
  },
  {
   "cell_type": "code",
   "execution_count": 127,
   "metadata": {},
   "outputs": [
    {
     "data": {
      "text/plain": [
       "[<matplotlib.lines.Line2D at 0x7f39c2955f28>]"
      ]
     },
     "execution_count": 127,
     "metadata": {},
     "output_type": "execute_result"
    },
    {
     "data": {
      "image/png": "[encoded data removed]",
      "text/plain": [
       "<Figure size 432x288 with 1 Axes>"
      ]
     },
     "metadata": {
      "needs_background": "light"
     },
     "output_type": "display_data"
    }
   ],
   "source": [
    "plt.scatter(x, y)\n",
    "plt.plot(x, y_hat, '-', color='red')\n",
    "plt.plot(x, reta(x, 3, 8), '-', color='black')"
   ]
  },
  {
   "cell_type": "code",
   "execution_count": 128,
   "metadata": {},
   "outputs": [],
   "source": [
    "X = torch.from_numpy(x.astype('f'))\n",
    "Y = torch.from_numpy(y.astype('f'))\n",
    "X.requires_grad_=True\n",
    "Y.requires_grad_=True"
   ]
  },
  {
   "cell_type": "code",
   "execution_count": 138,
   "metadata": {},
   "outputs": [
    {
     "name": "stdout",
     "output_type": "stream",
     "text": [
      "Loss: 77.99128723144531\n",
      "Loss: 0.098263218998909\n",
      "Loss: 0.08918534219264984\n",
      "Loss: 0.08690521866083145\n",
      "Loss: 0.08633247762918472\n",
      "Loss: 0.0861886516213417\n",
      "Loss: 0.08615250140428543\n",
      "Loss: 0.08614347875118256\n",
      "Loss: 0.0861411765217781\n",
      "Loss: 0.08614058047533035\n",
      "Loss: 0.08614040911197662\n",
      "tensor([2.9316]) tensor([8.0683])\n"
     ]
    },
    {
     "data": {
      "image/png": "[encoded data removed]",
      "text/plain": [
       "<Figure size 432x288 with 1 Axes>"
      ]
     },
     "metadata": {
      "needs_background": "light"
     },
     "output_type": "display_data"
    }
   ],
   "source": [
    "w_a = torch.randn(1, requires_grad=True)\n",
    "w_b = torch.randn(1, requires_grad=True)\n",
    "nb_epochs = 100\n",
    "learning_rate = 0.5\n",
    "\n",
    "def loss_mse(y_hat, y):\n",
    "    return torch.mean(torch.pow(y_hat - y, 2))\n",
    "\n",
    "for e in range(nb_epochs):\n",
    "\n",
    "    pred = reta(X, w_a, w_b)  # minha rede neural é uma reta! :-)\n",
    "    loss = loss_mse(pred, Y)\n",
    "    if e % 10 == 0:\n",
    "        print('Loss: {}'.format(loss.item()))\n",
    "    \n",
    "    # Computes the gradient of loss with respect to all Variables with requires_grad=True.\n",
    "    # After this call a.grad and b.grad will be Variables holding the gradient\n",
    "    # of the loss with respect to a and b respectively\n",
    "    loss.backward()\n",
    "    \n",
    "    # Update a and b using gradient descent; a.data and b.data are Tensors,\n",
    "    # a.grad and b.grad are Variables and a.grad.data and b.grad.data are Tensors\n",
    "    w_a.data -= learning_rate * w_a.grad.data\n",
    "    w_b.data -= learning_rate * w_b.grad.data\n",
    "    \n",
    "    # Reset the gradients\n",
    "    w_a.grad.data.zero_()\n",
    "    w_b.grad.data.zero_()\n",
    "print('Loss: {}'.format(loss.item()))\n",
    "\n",
    "with torch.no_grad():\n",
    "    plt.scatter(x, y)\n",
    "    pred = reta(X, w_a, w_b)\n",
    "    plt.plot(x, pred.detach().numpy(), '-', color='red')\n",
    "    print(w_a.data, w_b.data)"
   ]
  },
  {
   "cell_type": "markdown",
   "metadata": {},
   "source": [
    "Tenta rodar de novo mas aumentando a taxa de aprendizado (tipo 1 ou 0.1). Tenta também aumentar o númeor de épocas!\n",
    "\n",
    "Bora ver se essa ideia de ficar ajustando a reta funciona também pra classificação. Mas pra classificação vamos usar outra função de custo chamada de cross-entropy"
   ]
  },
  {
   "cell_type": "code",
   "execution_count": 139,
   "metadata": {},
   "outputs": [
    {
     "data": {
      "text/plain": [
       "<matplotlib.legend.Legend at 0x7f39c171ba90>"
      ]
     },
     "execution_count": 139,
     "metadata": {},
     "output_type": "execute_result"
    },
    {
     "data": {
      "image/png": "[encoded data removed]",
      "text/plain": [
       "<Figure size 432x288 with 1 Axes>"
      ]
     },
     "metadata": {
      "needs_background": "light"
     },
     "output_type": "display_data"
    }
   ],
   "source": [
    "x, y, labels = gen_logistic_fake_data(80, 3, 8, nb_labels=2)\n",
    "neg_idx = np.where(labels == 0)\n",
    "pos_idx = np.where(labels == 1)\n",
    "plt.scatter(x[neg_idx], y[neg_idx], c='blue', label='neg')\n",
    "plt.scatter(x[pos_idx], y[pos_idx], c='red', label='pos')\n",
    "plt.legend()"
   ]
  },
  {
   "cell_type": "code",
   "execution_count": 140,
   "metadata": {},
   "outputs": [],
   "source": [
    "def cross_entropy(y_hat, y): \n",
    "    return (y*y_hat.log() + (1-y)*(1-y_hat).log()).mean()\n",
    "\n",
    "def ce_numpy(y_hat, y): \n",
    "    return -(y*np.log(y_hat) + (1-y)*np.log(1-y_hat)).mean()"
   ]
  },
  {
   "cell_type": "code",
   "execution_count": 141,
   "metadata": {},
   "outputs": [],
   "source": [
    "y_hat = reta(x, 10, 6)"
   ]
  },
  {
   "cell_type": "code",
   "execution_count": 142,
   "metadata": {},
   "outputs": [],
   "source": [
    "sigmoid = lambda y_hat: 1/(1+np.exp(y_hat))"
   ]
  },
  {
   "cell_type": "code",
   "execution_count": 143,
   "metadata": {},
   "outputs": [
    {
     "data": {
      "text/plain": [
       "(0.5496530864180167, 0.5498654173292279)"
      ]
     },
     "execution_count": 143,
     "metadata": {},
     "output_type": "execute_result"
    }
   ],
   "source": [
    "mse(sigmoid(y_hat), labels), mse(sigmoid(reta(x, 3, 8)), labels)"
   ]
  },
  {
   "cell_type": "code",
   "execution_count": 144,
   "metadata": {},
   "outputs": [
    {
     "data": {
      "text/plain": [
       "(5.697549579345255, 5.11929514828484)"
      ]
     },
     "execution_count": 144,
     "metadata": {},
     "output_type": "execute_result"
    }
   ],
   "source": [
    "ce_numpy(sigmoid(y_hat), labels), ce_numpy(sigmoid(reta(x, 3, 8)), labels)"
   ]
  },
  {
   "cell_type": "code",
   "execution_count": 145,
   "metadata": {},
   "outputs": [
    {
     "data": {
      "text/plain": [
       "[<matplotlib.lines.Line2D at 0x7f39c168a978>]"
      ]
     },
     "execution_count": 145,
     "metadata": {},
     "output_type": "execute_result"
    },
    {
     "data": {
      "image/png": "[encoded data removed]",
      "text/plain": [
       "<Figure size 432x288 with 1 Axes>"
      ]
     },
     "metadata": {
      "needs_background": "light"
     },
     "output_type": "display_data"
    }
   ],
   "source": [
    "neg_idx = np.where(labels == 0)\n",
    "pos_idx = np.where(labels == 1)\n",
    "plt.scatter(x[neg_idx], y[neg_idx], c='blue', label='neg')\n",
    "plt.scatter(x[pos_idx], y[pos_idx], c='red', label='pos')\n",
    "plt.legend()\n",
    "plt.plot(x, y_hat, '-', color='green')\n",
    "plt.plot(x, reta(x, 3, 8), '-', color='black')"
   ]
  },
  {
   "cell_type": "code",
   "execution_count": 148,
   "metadata": {},
   "outputs": [
    {
     "name": "stdout",
     "output_type": "stream",
     "text": [
      "Loss: 0.705690324306488\n",
      "Loss: 0.7043957114219666\n",
      "Loss: 0.7031717896461487\n",
      "Loss: 0.702014684677124\n",
      "Loss: 0.700920820236206\n",
      "Loss: 0.6998870968818665\n",
      "Loss: 0.698910117149353\n",
      "Loss: 0.6979867815971375\n",
      "Loss: 0.6971143484115601\n",
      "Loss: 0.6962898969650269\n",
      "Loss: 0.6955869197845459\n"
     ]
    },
    {
     "data": {
      "image/png": "[encoded data removed]",
      "text/plain": [
       "<Figure size 432x288 with 1 Axes>"
      ]
     },
     "metadata": {
      "needs_background": "light"
     },
     "output_type": "display_data"
    }
   ],
   "source": [
    "X = torch.from_numpy(x.astype('f'))\n",
    "Y = torch.from_numpy(y.astype('f'))\n",
    "L = torch.from_numpy(labels.astype('f'))\n",
    "X.requires_grad_= True\n",
    "Y.requires_grad_= True\n",
    "\n",
    "neg_idx = np.where(labels == 0)\n",
    "pos_idx = np.where(labels == 1)\n",
    "plt.scatter(x[neg_idx], y[neg_idx], c='blue', label='neg')\n",
    "plt.scatter(x[pos_idx], y[pos_idx], c='red', label='pos')\n",
    "plt.legend()\n",
    "\n",
    "w_a = torch.randn(1, requires_grad=True)\n",
    "w_b = torch.randn(1, requires_grad=True)\n",
    "plt.plot(x, reta(X, w_a, w_b).detach().numpy(), '-', color='green')\n",
    "nb_epochs = 100\n",
    "learning_rate = 0.01\n",
    "loss_ce = lambda y_hat, y: -(y*y_hat.log() + (1-y)*(1-y_hat).log()).mean()\n",
    "\n",
    "for e in range(nb_epochs):\n",
    "    pred = reta(X, w_a, w_b)  # minha rede neural é uma reta! :-)\n",
    "#     loss = loss_mse(pred, Y)\n",
    "    pred = 1 / (1 + pred.exp())\n",
    "    loss = loss_ce(pred, L)\n",
    "    \n",
    "    if e % 10 == 0:\n",
    "        print('Loss: {}'.format(loss.item()))\n",
    "    \n",
    "    # Computes the gradient of loss with respect to all Variables with requires_grad=True.\n",
    "    # After this call a.grad and b.grad will be Variables holding the gradient\n",
    "    # of the loss with respect to a and b respectively\n",
    "    loss.backward()\n",
    "    \n",
    "    # Update a and b using gradient descent; a.data and b.data are Tensors,\n",
    "    # a.grad and b.grad are Variables and a.grad.data and b.grad.data are Tensors\n",
    "    w_a.data -= learning_rate * w_a.grad.data\n",
    "    w_b.data -= learning_rate * w_b.grad.data\n",
    "    \n",
    "    # Reset the gradients\n",
    "    w_a.grad.data.zero_()\n",
    "    w_b.grad.data.zero_()\n",
    "print('Loss: {}'.format(loss.item()))\n",
    "\n",
    "with torch.no_grad():\n",
    "    pred = reta(X, w_a, w_b)\n",
    "    plt.plot(x, pred.detach().numpy(), '-', color='black')"
   ]
  }
 ],
 "metadata": {
  "kernelspec": {
   "display_name": "Python 3",
   "language": "python",
   "name": "python3"
  },
  "language_info": {
   "codemirror_mode": {
    "name": "ipython",
    "version": 3
   },
   "file_extension": ".py",
   "mimetype": "text/x-python",
   "name": "python",
   "nbconvert_exporter": "python",
   "pygments_lexer": "ipython3",
   "version": "3.6.7"
  }
 },
 "nbformat": 4,
 "nbformat_minor": 2
}
